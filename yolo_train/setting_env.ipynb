{
 "cells": [
  {
   "cell_type": "code",
   "execution_count": null,
   "id": "28a9a802",
   "metadata": {},
   "outputs": [],
   "source": [
    "!pip install -r /content/art_train/yolo_train/requirements.txt"
   ]
  },
  {
   "cell_type": "code",
   "execution_count": null,
   "id": "d61f83f4",
   "metadata": {},
   "outputs": [],
   "source": [
    "!python /content/art_train/yolo_train/tank.yolo8/yolov8_train.py"
   ]
  }
 ],
 "metadata": {
  "language_info": {
   "name": "python"
  }
 },
 "nbformat": 4,
 "nbformat_minor": 5
}
